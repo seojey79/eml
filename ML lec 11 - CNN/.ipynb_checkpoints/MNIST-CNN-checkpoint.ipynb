{
 "cells": [
  {
   "cell_type": "code",
   "execution_count": 1,
   "metadata": {
    "collapsed": false
   },
   "outputs": [
    {
     "name": "stdout",
     "output_type": "stream",
     "text": [
      "Extracting ../data/MNIST_data/train-images-idx3-ubyte.gz\n",
      "Extracting ../data/MNIST_data/train-labels-idx1-ubyte.gz\n",
      "Extracting ../data/MNIST_data/t10k-images-idx3-ubyte.gz\n"
     ]
    },
    {
     "name": "stderr",
     "output_type": "stream",
     "text": [
      "/Library/Frameworks/Python.framework/Versions/3.5/lib/python3.5/gzip.py:274: VisibleDeprecationWarning: converting an array with ndim > 0 to an index will result in an error in the future\n",
      "  return self._buffer.read(size)\n",
      "/Users/kimjun/Documents/mywork/ML lec/ML lec 10 - adaptive NN/input_data.py:35: VisibleDeprecationWarning: converting an array with ndim > 0 to an index will result in an error in the future\n",
      "  data = data.reshape(num_images, rows, cols, 1)\n"
     ]
    },
    {
     "name": "stdout",
     "output_type": "stream",
     "text": [
      "Extracting ../data/MNIST_data/t10k-labels-idx1-ubyte.gz\n"
     ]
    }
   ],
   "source": [
    "import tensorflow as tf\n",
    "import input_data\n",
    "mnist = input_data.read_data_sets(\"../data/MNIST_data/\", one_hot=True)\n",
    "checkpoint_dir = \"/Users/kimjun/Documents/mywork/ML lec/model/\"\n",
    "\n",
    "learning_rate = 0.001\n",
    "training_epochs = 15 # node count\n",
    "batch_size = 100    # \n",
    "display_step = 1    # "
   ]
  },
  {
   "cell_type": "code",
   "execution_count": 2,
   "metadata": {
    "collapsed": false
   },
   "outputs": [],
   "source": [
    "# tf Graph Input\n",
    "x = tfX.placeholder(\"float\", [None, 784])  # mnist data image of shape 28*28=784\n",
    "y = tf.placeholder(\"float\", [None, 10])  # 0-9 digits recognition => 10 classes\n",
    "dropout_rate = tf.placeholder(\"float\")\n",
    "\n",
    "with tf.name_scope('W1') as scope:\n",
    "    W1 = tf.get_variable(\"W1\", shape=[784, 500], initializer=tf.contrib.layers.xavier_initializer())\n",
    "with tf.name_scope('W2') as scope:\n",
    "    W2 = tf.get_variable(\"W2\", shape=[500, 256], initializer=tf.contrib.layers.xavier_initializer())\n",
    "with tf.name_scope('W3') as scope:\n",
    "    W3 = tf.get_variable(\"W3\", shape=[256, 256], initializer=tf.contrib.layers.xavier_initializer())\n",
    "with tf.name_scope('W4') as scope:\n",
    "    W4 = tf.get_variable(\"W4\", shape=[256, 256], initializer=tf.contrib.layers.xavier_initializer())\n",
    "with tf.name_scope('W5') as scope:\n",
    "    W5 = tf.get_variable(\"W5\", shape=[256, 10], initializer=tf.contrib.layers.xavier_initializer())\n",
    "    \n",
    "\n",
    "b1 = tf.Variable(tf.random_normal([500]))\n",
    "b2 = tf.Variable(tf.random_normal([256]))\n",
    "b3 = tf.Variable(tf.random_normal([256]))\n",
    "b4 = tf.Variable(tf.random_normal([256]))\n",
    "b5 = tf.Variable(tf.random_normal([10]))\n",
    "\n",
    "dropout_rate = tf.placeholder(\"float\")\n",
    "_L1 = tf.nn.relu(tf.add(tf.matmul(x, W1), b1))\n",
    "L1= tf.nn.dropout(_L1, dropout_rate)\n",
    "_L2 = tf.nn.relu(tf.add(tf.matmul(L1, W2), b2))\n",
    "L2= tf.nn.dropout(_L2, dropout_rate)\n",
    "_L3 = tf.nn.relu(tf.add(tf.matmul(L2, W3), b3))\n",
    "L3= tf.nn.dropout(_L3, dropout_rate)\n",
    "_L4 = tf.nn.relu(tf.add(tf.matmul(L3, W4), b4))\n",
    "L4= tf.nn.dropout(_L3, dropout_rate)\n",
    "\n",
    "activation = tf.add(tf.matmul(L4, W5), b5)  \n",
    "\n",
    "cost = tf.reduce_mean(tf.nn.softmax_cross_entropy_with_logits(activation, y))\n",
    "optimizer = tf.train.AdamOptimizer(learning_rate=learning_rate).minimize(cost)  \n",
    "\n",
    "init = tf.initialize_all_variables()\n",
    "    "
   ]
  },
  {
   "cell_type": "code",
   "execution_count": 3,
   "metadata": {
    "collapsed": false,
    "scrolled": true
   },
   "outputs": [
    {
     "name": "stdout",
     "output_type": "stream",
     "text": [
      "load learning\n",
      "0.000350731\n",
      "0.000273464\n",
      "0.000159104\n",
      "0.000145548\n",
      "0.000017044\n",
      "0.000070697\n",
      "0.000107107\n",
      "0.000023242\n",
      "0.000009233\n",
      "0.000041188\n",
      "0.000005406\n",
      "0.000041638\n",
      "0.000006739\n",
      "0.000015954\n",
      "0.000010247\n",
      "Optimization Finished!\n",
      "LR 0.001\n",
      "EP-CNT 15\n",
      "BT-SZ 100\n",
      "Accuracy: 0.9822\n"
     ]
    }
   ],
   "source": [
    "# Launch the graph\n",
    "with tf.Session() as sess:\n",
    "    sess.run(init)\n",
    "    saver = tf.train.Saver() # Saves and restores variables.\n",
    "\n",
    "    ckpt = tf.train.get_checkpoint_state(checkpoint_dir)\n",
    "    if ckpt and ckpt.model_checkpoint_path:\n",
    "        print ('load learning')\n",
    "#         saver.restore(sess, ckpt.model_checkpoint_path)\n",
    "\n",
    "    # Training cycle\n",
    "    for epoch in range(training_epochs):\n",
    "        avg_cost = 0.\n",
    "        total_batch = int(mnist.train.num_examples / batch_size)\n",
    "        # Loop over all batches\n",
    "        for i in range(total_batch):\n",
    "            batch_xs, batch_ys = mnist.train.next_batch(batch_size)\n",
    "            # Fit training using batch data\n",
    "            sess.run(optimizer, feed_dict={x: batch_xs, y: batch_ys, dropout_rate:0.7})\n",
    "            # Compute average loss\n",
    "\n",
    "        # Display logs per epoch step\n",
    "\n",
    "        avg_cost += sess.run(cost, feed_dict={x: batch_xs, y: batch_ys, dropout_rate:1}) / total_batch\n",
    "        if epoch % display_step == 0: \n",
    "            print (\"{:.9f}\".format(avg_cost))\n",
    "  \n",
    "    print (\"Optimization Finished!\")\n",
    "\n",
    "    # Test model\n",
    "    correct_prediction = tf.equal(tf.argmax(activation, 1), tf.argmax(y, 1))\n",
    "    # Calculate accuracy\n",
    "    accuracy = tf.reduce_mean(tf.cast(correct_prediction, \"float\"))\n",
    "    print (\"LR\", learning_rate)\n",
    "    print (\"EP-CNT\", training_epochs)\n",
    "    print (\"BT-SZ\", batch_size)\n",
    "    \n",
    "    print (\"Accuracy:\", accuracy.eval({x: mnist.test.images, y: mnist.test.labels, dropout_rate:1}))\n",
    "\n",
    "    saver.save(sess, checkpoint_dir + 'model.ckpt')\n",
    "    "
   ]
  },
  {
   "cell_type": "code",
   "execution_count": null,
   "metadata": {
    "collapsed": true
   },
   "outputs": [],
   "source": []
  }
 ],
 "metadata": {
  "kernelspec": {
   "display_name": "Python 3",
   "language": "python",
   "name": "python3"
  },
  "language_info": {
   "codemirror_mode": {
    "name": "ipython",
    "version": 3
   },
   "file_extension": ".py",
   "mimetype": "text/x-python",
   "name": "python",
   "nbconvert_exporter": "python",
   "pygments_lexer": "ipython3",
   "version": "3.5.2"
  }
 },
 "nbformat": 4,
 "nbformat_minor": 0
}
