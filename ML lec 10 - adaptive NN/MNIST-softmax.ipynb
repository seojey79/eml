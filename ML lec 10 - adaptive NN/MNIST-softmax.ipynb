{
 "cells": [
  {
   "cell_type": "code",
   "execution_count": 44,
   "metadata": {
    "collapsed": false
   },
   "outputs": [
    {
     "name": "stdout",
     "output_type": "stream",
     "text": [
      "Extracting ../data/MNIST_data/train-images-idx3-ubyte.gz\n"
     ]
    },
    {
     "name": "stderr",
     "output_type": "stream",
     "text": [
      "/Library/Frameworks/Python.framework/Versions/3.5/lib/python3.5/gzip.py:274: VisibleDeprecationWarning: converting an array with ndim > 0 to an index will result in an error in the future\n",
      "  return self._buffer.read(size)\n",
      "/Library/Frameworks/Python.framework/Versions/3.5/lib/python3.5/site-packages/tensorflow/seojey/ML lec/ML lec 10 - adaptive NN/input_data.py:35: VisibleDeprecationWarning: converting an array with ndim > 0 to an index will result in an error in the future\n",
      "  data = data.reshape(num_images, rows, cols, 1)\n"
     ]
    },
    {
     "name": "stdout",
     "output_type": "stream",
     "text": [
      "Extracting ../data/MNIST_data/train-labels-idx1-ubyte.gz\n",
      "Extracting ../data/MNIST_data/t10k-images-idx3-ubyte.gz\n",
      "Extracting ../data/MNIST_data/t10k-labels-idx1-ubyte.gz\n"
     ]
    }
   ],
   "source": [
    "import tensorflow as tf\n",
    "import input_data\n",
    "mnist = input_data.read_data_sets(\"../data/MNIST_data/\", one_hot=True)\n",
    "checkpoint_dir = \"/Library/Frameworks/Python.framework/Versions/3.5/lib/python3.5/site-packages/tensorflow/seojey/ML lec/model\"\n",
    "\n",
    "learning_rate = 0.001\n",
    "training_epochs = 15 # node count\n",
    "batch_size = 100    # \n",
    "display_step = 1    # ?\n",
    "\n",
    "\n",
    "    "
   ]
  },
  {
   "cell_type": "code",
   "execution_count": 45,
   "metadata": {
    "collapsed": false
   },
   "outputs": [],
   "source": [
    "# tf Graph Input\n",
    "x = tf.placeholder(\"float\", [None, 784])  # mnist data image of shape 28*28=784\n",
    "y = tf.placeholder(\"float\", [None, 10])  # 0-9 digits recognition => 10 classes\n",
    "dropout_rate = tf.placeholder(\"float\")\n",
    "\n",
    "# Create model\n",
    "\n",
    "# Set model weights\n",
    "## W % b가 아래와 같이 나눠진 이유는?\n",
    "## --> input & output \n",
    "\n",
    "W = tf.Variable(tf.zeros([784, 10]))\n",
    "b = tf.Variable(tf.zeros([10]))\n",
    "\n",
    "activation = tf.nn.softmax(tf.matmul(x, W) + b)  \n",
    "\n",
    "\n",
    "cost = tf.reduce_mean(-tf.reduce_sum(y * tf.log(activation), reduction_indices=1))\n",
    "optimizer = tf.train.GradientDescentOptimizer(learning_rate).minimize(cost)\n",
    "\n",
    "\n",
    "init = tf.initialize_all_variables()\n",
    "    "
   ]
  },
  {
   "cell_type": "code",
   "execution_count": 46,
   "metadata": {
    "collapsed": false,
    "scrolled": true
   },
   "outputs": [
    {
     "name": "stdout",
     "output_type": "stream",
     "text": [
      "0.003457827\n",
      "0.002599957\n",
      "0.002249102\n",
      "0.001990228\n",
      "0.001850361\n",
      "0.001518448\n",
      "0.001754407\n",
      "0.001548593\n",
      "0.001314856\n",
      "0.001249659\n",
      "0.001318275\n",
      "0.001366597\n",
      "0.001258814\n",
      "0.001460582\n",
      "0.001110367\n",
      "Optimization Finished!\n",
      "LR 0.001\n",
      "EP-CNT 15\n",
      "BT-SZ 100\n",
      "Accuracy: 0.8661\n"
     ]
    }
   ],
   "source": [
    "# Launch the graph\n",
    "with tf.Session() as sess:\n",
    "    sess.run(init)\n",
    "    saver = tf.train.Saver() # Saves and restores variables.\n",
    "\n",
    "    ckpt = tf.train.get_checkpoint_state(checkpoint_dir)\n",
    "    if ckpt and ckpt.model_checkpoint_path:\n",
    "        print ('load learning')\n",
    "        saver.restore(sess, ckpt.model_checkpoint_path)\n",
    "\n",
    "    # Training cycle\n",
    "    for epoch in range(training_epochs):\n",
    "        avg_cost = 0.\n",
    "        total_batch = int(mnist.train.num_examples / batch_size)\n",
    "        # Loop over all batches\n",
    "        for i in range(total_batch):\n",
    "            batch_xs, batch_ys = mnist.train.next_batch(batch_size)\n",
    "            # Fit training using batch data\n",
    "            sess.run(optimizer, feed_dict={x: batch_xs, y: batch_ys})\n",
    "            # Compute average loss\n",
    "\n",
    "        # Display logs per epoch step\n",
    "\n",
    "        avg_cost += sess.run(cost, feed_dict={x: batch_xs, y: batch_ys}) / total_batch\n",
    "        if epoch % display_step == 0: # Softmax\n",
    "            print (\"{:.9f}\".format(avg_cost))\n",
    "  \n",
    "    print (\"Optimization Finished!\")\n",
    "\n",
    "    # Test model\n",
    "    correct_prediction = tf.equal(tf.argmax(activation, 1), tf.argmax(y, 1))\n",
    "    # Calculate accuracy\n",
    "    accuracy = tf.reduce_mean(tf.cast(correct_prediction, \"float\"))\n",
    "    print (\"LR\", learning_rate)\n",
    "    print (\"EP-CNT\", training_epochs)\n",
    "    print (\"BT-SZ\", batch_size)\n",
    "    \n",
    "    print (\"Accuracy:\", accuracy.eval({x: mnist.test.images, y: mnist.test.labels}))\n",
    "\n",
    "    saver.save(sess, checkpoint_dir + 'model.ckpt')\n",
    "    "
   ]
  }
 ],
 "metadata": {
  "kernelspec": {
   "display_name": "Python 3",
   "language": "python",
   "name": "python3"
  },
  "language_info": {
   "codemirror_mode": {
    "name": "ipython",
    "version": 3
   },
   "file_extension": ".py",
   "mimetype": "text/x-python",
   "name": "python",
   "nbconvert_exporter": "python",
   "pygments_lexer": "ipython3",
   "version": "3.5.2"
  }
 },
 "nbformat": 4,
 "nbformat_minor": 0
}
