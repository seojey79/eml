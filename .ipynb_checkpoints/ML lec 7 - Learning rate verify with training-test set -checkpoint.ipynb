{
 "cells": [
  {
   "cell_type": "code",
   "execution_count": 2,
   "metadata": {
    "collapsed": false
   },
   "outputs": [
    {
     "name": "stdout",
     "output_type": "stream",
     "text": [
      "0 1.06984 [[-0.00416667  0.00208333  0.00208333]\n",
      " [ 0.00833333  0.01458334 -0.02291667]\n",
      " [ 0.00833333  0.02083333 -0.02916667]]\n",
      "200 0.807923 [[-0.92111635 -0.23440626  1.1555227 ]\n",
      " [ 0.06020401 -0.12299228  0.06278855]\n",
      " [ 0.15499336  0.23099811 -0.38599136]]\n",
      "400 0.70022 [[-1.5699451  -0.36335209  1.93329704]\n",
      " [ 0.0965865  -0.09255949 -0.00402655]\n",
      " [ 0.24857719  0.23820724 -0.48678401]]\n",
      "600 0.637664 [[-2.09099841 -0.41878971  2.50978875]\n",
      " [ 0.11882806 -0.06669156 -0.05213596]\n",
      " [ 0.32999945  0.23445068 -0.56444955]]\n",
      "800 0.594862 [[-2.53993893 -0.43150869  2.97144747]\n",
      " [ 0.13057213 -0.0485391  -0.0820323 ]\n",
      " [ 0.40679976  0.22859022 -0.63538903]]\n",
      "1000 0.562362 [[-2.94259596 -0.4189783   3.36157417]\n",
      " [ 0.13668807 -0.03513117 -0.10155615]\n",
      " [ 0.47936019  0.22127807 -0.70063722]]\n",
      "1200 0.536025 [[-3.31239676 -0.39120066  3.70359826]\n",
      " [ 0.13980316 -0.02472436 -0.115078  ]\n",
      " [ 0.54791105  0.21300325 -0.76091337]]\n",
      "1400 0.51378 [[-3.65703964 -0.35416761  4.01121092]\n",
      " [ 0.141261   -0.01634461 -0.12491535]\n",
      " [ 0.61280054  0.20418234 -0.81698149]]\n",
      "1600 0.494466 [[-3.98133516 -0.31161955  4.29295921]\n",
      " [ 0.14178064 -0.00940867 -0.13237095]\n",
      " [ 0.6743843   0.19512092 -0.86950397]]\n",
      "1800 0.477375 [[ -4.28852081e+00  -2.65963286e-01   4.55449390e+00]\n",
      " [  1.41767308e-01  -3.54418810e-03  -1.38221964e-01]\n",
      " [  7.32985973e-01   1.86031774e-01  -9.19016778e-01]]\n",
      "2000 0.462043 [[ -4.58091116e+00  -2.18783736e-01   4.79970598e+00]\n",
      " [  1.41456306e-01   1.49783201e-03  -1.42952830e-01]\n",
      " [  7.88888693e-01   1.77058354e-01  -9.65946078e-01]]\n"
     ]
    }
   ],
   "source": [
    "import tensorflow as tf\n",
    "import numpy as np\n",
    "\n",
    "xy = np.loadtxt('train3.txt', unpack=True, dtype='float32')\n",
    "\n",
    "x_data = np.transpose(xy[0:3])\n",
    "y_data = np.transpose(xy[3:])\n",
    "\n",
    "X = tf.placeholder(\"float\", [None, 3])\n",
    "Y = tf.placeholder(\"float\", [None, 3])\n",
    "\n",
    "W = tf.Variable(tf.zeros([3, 3]))\n",
    "\n",
    "hypothesis = tf.nn.softmax(tf.matmul(X, W))\n",
    "\n",
    "learning_rate = 0.05\n",
    "\n",
    "cost = tf.reduce_mean(-tf.reduce_sum(Y * tf.log(hypothesis), reduction_indices=1))\n",
    "\n",
    "optimizer = tf.train.GradientDescentOptimizer(learning_rate).minimize(cost)\n",
    "\n",
    "\n",
    "init = tf.initialize_all_variables()\n",
    "\n",
    "with tf.Session() as sess:\n",
    "    sess.run(init)\n",
    "\n",
    "    for step in range(2001):\n",
    "        sess.run(optimizer, feed_dict={X: x_data, Y: y_data})\n",
    "        if step % 200 == 0:\n",
    "            print (step, sess.run(cost, feed_dict={X: x_data, Y: y_data}), sess.run(W))\n"
   ]
  },
  {
   "cell_type": "code",
   "execution_count": 1,
   "metadata": {
    "collapsed": false
   },
   "outputs": [
    {
     "name": "stdout",
     "output_type": "stream",
     "text": [
      "Traceback (most recent call last):\r\n",
      "  File \"NN.py\", line 1, in <module>\r\n",
      "    import tensorflow as tf\r\n",
      "ImportError: No module named tensorflow\r\n"
     ]
    }
   ],
   "source": [
    "!python NN.py"
   ]
  }
 ],
 "metadata": {
  "kernelspec": {
   "display_name": "Python 3",
   "language": "python",
   "name": "python3"
  },
  "language_info": {
   "codemirror_mode": {
    "name": "ipython",
    "version": 3
   },
   "file_extension": ".py",
   "mimetype": "text/x-python",
   "name": "python",
   "nbconvert_exporter": "python",
   "pygments_lexer": "ipython3",
   "version": "3.5.2"
  }
 },
 "nbformat": 4,
 "nbformat_minor": 0
}
