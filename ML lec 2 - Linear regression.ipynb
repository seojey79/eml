{
 "cells": [
  {
   "cell_type": "markdown",
   "metadata": {},
   "source": [
    "## linear regression with placeholder"
   ]
  },
  {
   "cell_type": "code",
   "execution_count": 29,
   "metadata": {
    "collapsed": false,
    "scrolled": true
   },
   "outputs": [
    {
     "name": "stdout",
     "output_type": "stream",
     "text": [
      "0 0.100358 [ 0.9171499] [ 0.47518656]\n",
      "200 1.56272e-06 [ 0.99854803] [ 0.00330059]\n",
      "400 9.20484e-11 [ 0.99998885] [  2.54099123e-05]\n",
      "600 2.36848e-14 [ 0.99999988] [  2.64699651e-07]\n",
      "800 0.0 [ 1.] [  5.80701283e-08]\n",
      "1000 0.0 [ 1.] [  5.80701283e-08]\n",
      "1200 0.0 [ 1.] [  5.80701283e-08]\n",
      "1400 0.0 [ 1.] [  5.80701283e-08]\n",
      "1600 0.0 [ 1.] [  5.80701283e-08]\n",
      "1800 0.0 [ 1.] [  5.80701283e-08]\n",
      "2000 0.0 [ 1.] [  5.80701283e-08]\n",
      "[ 5.]\n",
      "[ 2.5]\n"
     ]
    }
   ],
   "source": [
    "import tensorflow as tf\n",
    "\n",
    "x_data = [1, 2, 3]\n",
    "y_data = [1, 2, 3]\n",
    "\n",
    "# 대상 \n",
    "W = tf.Variable(tf.random_uniform([1], -1.0, 1.0))\n",
    "b = tf.Variable(tf.random_uniform([1], -1.0, 1.0))\n",
    "\n",
    "#  \n",
    "X = tf.placeholder(tf.float32)\n",
    "Y = tf.placeholder(tf.float32)\n",
    "\n",
    "h = W * X + b\n",
    "cost = tf.reduce_mean(tf.square(h - Y))\n",
    "\n",
    "# learning rate에 따라 NaN이 나오는 상황이 발생함.\n",
    "optimizer = tf.train.GradientDescentOptimizer(0.1)\n",
    "train = optimizer.minimize(cost)\n",
    "\n",
    "init = tf.initialize_all_variables()\n",
    "\n",
    "sess = tf.Session()\n",
    "sess.run(init)\n",
    "\n",
    "for step in range(2001) :\n",
    "#     print('>>', sess.run(train, feed_dict = {X:x_data, Y:y_data}), sess.run(W), sess.run(b))\n",
    "    sess.run(train, feed_dict = {X:x_data, Y:y_data})\n",
    "    if step % 200 == 0 :\n",
    "        print (step, sess.run(cost, feed_dict={X:x_data, Y:y_data}), sess.run(W), sess.run(b))\n",
    "\n",
    "        \n",
    "print (sess.run(h, feed_dict = {X:5}))\n",
    "print (sess.run(h, feed_dict = {X:2.5}))\n",
    "    "
   ]
  },
  {
   "cell_type": "code",
   "execution_count": null,
   "metadata": {
    "collapsed": true
   },
   "outputs": [],
   "source": []
  }
 ],
 "metadata": {
  "kernelspec": {
   "display_name": "Python 3",
   "language": "python",
   "name": "python3"
  },
  "language_info": {
   "codemirror_mode": {
    "name": "ipython",
    "version": 3
   },
   "file_extension": ".py",
   "mimetype": "text/x-python",
   "name": "python",
   "nbconvert_exporter": "python",
   "pygments_lexer": "ipython3",
   "version": "3.5.2"
  }
 },
 "nbformat": 4,
 "nbformat_minor": 0
}
