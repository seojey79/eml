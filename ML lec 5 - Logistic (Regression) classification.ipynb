{
 "cells": [
  {
   "cell_type": "code",
   "execution_count": 23,
   "metadata": {
    "collapsed": false
   },
   "outputs": [
    {
     "name": "stdout",
     "output_type": "stream",
     "text": [
      "0 0.487681 [[-0.68077302 -0.33464062  0.91274816]]\n",
      "200 0.265293 [[-2.49934268 -0.39349151  1.24042785]]\n",
      "400 0.193489 [[-3.67092657 -0.31778905  1.45202816]]\n",
      "600 0.153915 [[-4.54131794 -0.27175122  1.61975789]]\n",
      "800 0.128549 [[-5.23762703 -0.2426253   1.76213896]]\n",
      "1000 0.110742 [[-5.82051516 -0.2227373   1.8860774 ]]\n",
      "1200 0.0974723 [[-6.32332993 -0.20831622  1.99586666]]\n",
      "1400 0.0871579 [[-6.76635361 -0.19738355  2.09446502]]\n",
      "1600 0.0788865 [[-7.16288137 -0.18881395  2.18399429]]\n",
      "1800 0.0720917 [[-7.52212095 -0.18191729  2.26602077]]\n",
      "2000 0.0664021 [[-7.85072994 -0.17625068  2.34173441]]\n",
      "--------------------------------------\n",
      "[[False]]\n",
      "[[ True]]\n",
      "[[False  True]]\n"
     ]
    }
   ],
   "source": [
    "import numpy as np\n",
    "import tensorflow as tf\n",
    "\n",
    "xy = np.loadtxt('train2.txt', unpack=True, dtype='float32')\n",
    "\n",
    "x_data = xy[0:-1]\n",
    "y_data = xy[-1]\n",
    "\n",
    "X = tf.placeholder(tf.float32)\n",
    "Y = tf.placeholder(tf.float32)\n",
    "\n",
    "W = tf.Variable(tf.random_uniform([1, len(x_data)], -1.0, 1.0))\n",
    "\n",
    "h = tf.matmul(W, X)\n",
    "hypothesis = tf.div(1., 1. + tf.exp(-h))\n",
    "\n",
    "cost = - tf.reduce_mean((Y * tf.log(hypothesis)) + ((1 - Y) * tf.log(1 - hypothesis)))\n",
    "optimizer = tf.train.GradientDescentOptimizer(0.1)\n",
    "train = optimizer.minimize(cost)\n",
    "\n",
    "init = tf.initialize_all_variables()\n",
    "\n",
    "sess = tf.Session()\n",
    "sess.run(init)\n",
    "\n",
    "for step in range(2001) :\n",
    "    sess.run(train, feed_dict={X:x_data, Y:y_data})\n",
    "    if step % 200 == 0 :\n",
    "        print (step, sess.run(cost, feed_dict={X:x_data, Y:y_data}), sess.run(W))\n",
    "\n",
    "        \n",
    "print('--------------------------------------')\n",
    "print (sess.run(hypothesis, feed_dict={X:[[1], [2], [2]]}) > 0.5)\n",
    "print (sess.run(hypothesis, feed_dict={X:[[1], [5], [5]]}) > 0.5)\n",
    "print (sess.run(hypothesis, feed_dict={X:[[1, 1], [4, 3], [3, 5]]}) > 0.5)"
   ]
  }
 ],
 "metadata": {
  "kernelspec": {
   "display_name": "Python 3",
   "language": "python",
   "name": "python3"
  },
  "language_info": {
   "codemirror_mode": {
    "name": "ipython",
    "version": 3
   },
   "file_extension": ".py",
   "mimetype": "text/x-python",
   "name": "python",
   "nbconvert_exporter": "python",
   "pygments_lexer": "ipython3",
   "version": "3.5.2"
  }
 },
 "nbformat": 4,
 "nbformat_minor": 0
}
